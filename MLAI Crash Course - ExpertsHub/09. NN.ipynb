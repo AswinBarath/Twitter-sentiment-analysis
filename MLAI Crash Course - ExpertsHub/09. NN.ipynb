{
 "cells": [
  {
   "cell_type": "markdown",
   "metadata": {},
   "source": [
    "## Classification using NN"
   ]
  },
  {
   "cell_type": "code",
   "execution_count": 1,
   "metadata": {},
   "outputs": [],
   "source": [
    "from tensorflow.keras.models import Sequential\n",
    "from tensorflow.keras.layers import Dense\n",
    "import tensorflow as tf\n",
    "import numpy as np"
   ]
  },
  {
   "cell_type": "code",
   "execution_count": 2,
   "metadata": {},
   "outputs": [],
   "source": [
    "from sklearn.datasets import load_breast_cancer"
   ]
  },
  {
   "cell_type": "code",
   "execution_count": 3,
   "metadata": {},
   "outputs": [],
   "source": [
    "cancer = load_breast_cancer()\n",
    "X = cancer['data']\n",
    "y = cancer['target']"
   ]
  },
  {
   "cell_type": "code",
   "execution_count": 4,
   "metadata": {},
   "outputs": [],
   "source": [
    "from sklearn.model_selection import train_test_split"
   ]
  },
  {
   "cell_type": "code",
   "execution_count": 5,
   "metadata": {},
   "outputs": [],
   "source": [
    "X_train, X_test, y_train, y_test = \\\n",
    "                train_test_split(X, y, test_size=0.2)"
   ]
  },
  {
   "cell_type": "markdown",
   "metadata": {},
   "source": [
    "### Create a Model for Classification\n",
    "Layers:\n",
    "* I/P Layer (only data, no need to create)\n",
    "* Hidden Layer 1 (100 LTUs)\n",
    "* Hidden Layer 2 (50 LTUs)\n",
    "* Hidden Layer 3 (25 LTUs)\n",
    "* Output Layer   (n_classes LTUs)"
   ]
  },
  {
   "cell_type": "code",
   "execution_count": 10,
   "metadata": {},
   "outputs": [],
   "source": [
    "tf.reset_default_graph()"
   ]
  },
  {
   "cell_type": "code",
   "execution_count": 11,
   "metadata": {},
   "outputs": [],
   "source": [
    "clf_model = Sequential()"
   ]
  },
  {
   "cell_type": "markdown",
   "metadata": {},
   "source": [
    "#### Hidden Layer 1"
   ]
  },
  {
   "cell_type": "code",
   "execution_count": 12,
   "metadata": {},
   "outputs": [],
   "source": [
    "clf_model.add(\n",
    "    Dense(\n",
    "        units=100,\n",
    "        activation='relu',\n",
    "        input_shape=[X.shape[1]]\n",
    "    )\n",
    ")"
   ]
  },
  {
   "cell_type": "markdown",
   "metadata": {},
   "source": [
    "#### Hidden Layer 2"
   ]
  },
  {
   "cell_type": "code",
   "execution_count": 13,
   "metadata": {},
   "outputs": [],
   "source": [
    "clf_model.add(Dense(50, 'relu'))"
   ]
  },
  {
   "cell_type": "markdown",
   "metadata": {},
   "source": [
    "#### Hidden Layer 3"
   ]
  },
  {
   "cell_type": "code",
   "execution_count": 14,
   "metadata": {},
   "outputs": [],
   "source": [
    "clf_model.add(Dense(25, 'relu'))"
   ]
  },
  {
   "cell_type": "markdown",
   "metadata": {},
   "source": [
    "#### Output Layer"
   ]
  },
  {
   "cell_type": "code",
   "execution_count": 15,
   "metadata": {},
   "outputs": [],
   "source": [
    "clf_model.add(Dense(2, 'softmax'))"
   ]
  },
  {
   "cell_type": "markdown",
   "metadata": {},
   "source": [
    "#### View the model"
   ]
  },
  {
   "cell_type": "code",
   "execution_count": 16,
   "metadata": {
    "scrolled": true
   },
   "outputs": [
    {
     "name": "stdout",
     "output_type": "stream",
     "text": [
      "Model: \"sequential\"\n",
      "_________________________________________________________________\n",
      "Layer (type)                 Output Shape              Param #   \n",
      "=================================================================\n",
      "dense (Dense)                (None, 100)               3100      \n",
      "_________________________________________________________________\n",
      "dense_1 (Dense)              (None, 50)                5050      \n",
      "_________________________________________________________________\n",
      "dense_2 (Dense)              (None, 25)                1275      \n",
      "_________________________________________________________________\n",
      "dense_3 (Dense)              (None, 2)                 52        \n",
      "=================================================================\n",
      "Total params: 9,477\n",
      "Trainable params: 9,477\n",
      "Non-trainable params: 0\n",
      "_________________________________________________________________\n"
     ]
    }
   ],
   "source": [
    "clf_model.summary()"
   ]
  },
  {
   "cell_type": "markdown",
   "metadata": {},
   "source": [
    "#### Compile the model"
   ]
  },
  {
   "cell_type": "code",
   "execution_count": 17,
   "metadata": {},
   "outputs": [],
   "source": [
    "clf_model.compile(\n",
    "    optimizer='adam',\n",
    "    loss='sparse_categorical_crossentropy',\n",
    "    metrics=['accuracy']\n",
    ")"
   ]
  },
  {
   "cell_type": "markdown",
   "metadata": {},
   "source": [
    "#### Train the model"
   ]
  },
  {
   "cell_type": "code",
   "execution_count": 19,
   "metadata": {
    "scrolled": true
   },
   "outputs": [
    {
     "name": "stdout",
     "output_type": "stream",
     "text": [
      "Train on 409 samples, validate on 46 samples\n",
      "Epoch 1/100\n",
      "409/409 [==============================] - 0s 71us/sample - loss: 0.3228 - acc: 0.9193 - val_loss: 0.7077 - val_acc: 0.8261\n",
      "Epoch 2/100\n",
      "409/409 [==============================] - 0s 109us/sample - loss: 0.4084 - acc: 0.9071 - val_loss: 1.5129 - val_acc: 0.7391\n",
      "Epoch 3/100\n",
      "409/409 [==============================] - 0s 102us/sample - loss: 0.5935 - acc: 0.8753 - val_loss: 1.3177 - val_acc: 0.7826\n",
      "Epoch 4/100\n",
      "409/409 [==============================] - 0s 98us/sample - loss: 0.3627 - acc: 0.9120 - val_loss: 0.4604 - val_acc: 0.8261\n",
      "Epoch 5/100\n",
      "409/409 [==============================] - 0s 90us/sample - loss: 0.2868 - acc: 0.9193 - val_loss: 0.5352 - val_acc: 0.8261\n",
      "Epoch 6/100\n",
      "409/409 [==============================] - 0s 98us/sample - loss: 0.2601 - acc: 0.9315 - val_loss: 0.4885 - val_acc: 0.8261\n",
      "Epoch 7/100\n",
      "409/409 [==============================] - 0s 108us/sample - loss: 0.3075 - acc: 0.9218 - val_loss: 0.2697 - val_acc: 0.8913\n",
      "Epoch 8/100\n",
      "409/409 [==============================] - 0s 129us/sample - loss: 0.2701 - acc: 0.9267 - val_loss: 0.2743 - val_acc: 0.9130\n",
      "Epoch 9/100\n",
      "409/409 [==============================] - 0s 103us/sample - loss: 0.3471 - acc: 0.9046 - val_loss: 0.2789 - val_acc: 0.9348\n",
      "Epoch 10/100\n",
      "409/409 [==============================] - 0s 91us/sample - loss: 0.3429 - acc: 0.9120 - val_loss: 0.2482 - val_acc: 0.9348\n",
      "Epoch 11/100\n",
      "409/409 [==============================] - 0s 97us/sample - loss: 0.4141 - acc: 0.8998 - val_loss: 0.2912 - val_acc: 0.9348\n",
      "Epoch 12/100\n",
      "409/409 [==============================] - 0s 87us/sample - loss: 0.3927 - acc: 0.9022 - val_loss: 0.2702 - val_acc: 0.9348\n",
      "Epoch 13/100\n",
      "409/409 [==============================] - 0s 96us/sample - loss: 0.3592 - acc: 0.9095 - val_loss: 0.2651 - val_acc: 0.9348\n",
      "Epoch 14/100\n",
      "409/409 [==============================] - 0s 95us/sample - loss: 0.3387 - acc: 0.9193 - val_loss: 0.2496 - val_acc: 0.9130\n",
      "Epoch 15/100\n",
      "409/409 [==============================] - 0s 90us/sample - loss: 0.3660 - acc: 0.9046 - val_loss: 0.2503 - val_acc: 0.9348\n",
      "Epoch 16/100\n",
      "409/409 [==============================] - 0s 99us/sample - loss: 0.2710 - acc: 0.9144 - val_loss: 0.2547 - val_acc: 0.9348\n",
      "Epoch 17/100\n",
      "409/409 [==============================] - 0s 91us/sample - loss: 0.2456 - acc: 0.9218 - val_loss: 0.2357 - val_acc: 0.9348\n",
      "Epoch 18/100\n",
      "409/409 [==============================] - 0s 89us/sample - loss: 0.2796 - acc: 0.9095 - val_loss: 0.2247 - val_acc: 0.9348\n",
      "Epoch 19/100\n",
      "409/409 [==============================] - 0s 85us/sample - loss: 0.2720 - acc: 0.9144 - val_loss: 0.2235 - val_acc: 0.9130\n",
      "Epoch 20/100\n",
      "409/409 [==============================] - 0s 103us/sample - loss: 0.2238 - acc: 0.9291 - val_loss: 0.4881 - val_acc: 0.8478\n",
      "Epoch 21/100\n",
      "409/409 [==============================] - 0s 86us/sample - loss: 0.2302 - acc: 0.9218 - val_loss: 0.2079 - val_acc: 0.9130\n",
      "Epoch 22/100\n",
      "409/409 [==============================] - 0s 81us/sample - loss: 0.2295 - acc: 0.9267 - val_loss: 0.3418 - val_acc: 0.8696\n",
      "Epoch 23/100\n",
      "409/409 [==============================] - 0s 102us/sample - loss: 0.2217 - acc: 0.9095 - val_loss: 0.2428 - val_acc: 0.8696\n",
      "Epoch 24/100\n",
      "409/409 [==============================] - 0s 162us/sample - loss: 0.1839 - acc: 0.9340 - val_loss: 0.3026 - val_acc: 0.8696\n",
      "Epoch 25/100\n",
      "409/409 [==============================] - 0s 145us/sample - loss: 0.2612 - acc: 0.8998 - val_loss: 0.7175 - val_acc: 0.8043\n",
      "Epoch 26/100\n",
      "409/409 [==============================] - 0s 215us/sample - loss: 0.5104 - acc: 0.8606 - val_loss: 0.2990 - val_acc: 0.8696\n",
      "Epoch 27/100\n",
      "409/409 [==============================] - 0s 124us/sample - loss: 0.1833 - acc: 0.9340 - val_loss: 0.6179 - val_acc: 0.8478\n",
      "Epoch 28/100\n",
      "409/409 [==============================] - 0s 101us/sample - loss: 0.2137 - acc: 0.9389 - val_loss: 0.3164 - val_acc: 0.8478\n",
      "Epoch 29/100\n",
      "409/409 [==============================] - 0s 104us/sample - loss: 0.1878 - acc: 0.9462 - val_loss: 0.3279 - val_acc: 0.8261\n",
      "Epoch 30/100\n",
      "409/409 [==============================] - 0s 103us/sample - loss: 0.3445 - acc: 0.8998 - val_loss: 0.2540 - val_acc: 0.9130\n",
      "Epoch 31/100\n",
      "409/409 [==============================] - 0s 124us/sample - loss: 0.2793 - acc: 0.9291 - val_loss: 1.5175 - val_acc: 0.6739\n",
      "Epoch 32/100\n",
      "409/409 [==============================] - 0s 111us/sample - loss: 0.3941 - acc: 0.8875 - val_loss: 0.2915 - val_acc: 0.8913\n",
      "Epoch 33/100\n",
      "409/409 [==============================] - 0s 77us/sample - loss: 0.1756 - acc: 0.9487 - val_loss: 0.5095 - val_acc: 0.8261\n",
      "Epoch 34/100\n",
      "409/409 [==============================] - 0s 86us/sample - loss: 0.2754 - acc: 0.9193 - val_loss: 0.2436 - val_acc: 0.8696\n",
      "Epoch 35/100\n",
      "409/409 [==============================] - 0s 76us/sample - loss: 0.2614 - acc: 0.9169 - val_loss: 0.5543 - val_acc: 0.8478\n",
      "Epoch 36/100\n",
      "409/409 [==============================] - 0s 83us/sample - loss: 0.2520 - acc: 0.9095 - val_loss: 0.1985 - val_acc: 0.9348\n",
      "Epoch 37/100\n",
      "409/409 [==============================] - 0s 111us/sample - loss: 0.2213 - acc: 0.9193 - val_loss: 0.8310 - val_acc: 0.7826\n",
      "Epoch 38/100\n",
      "409/409 [==============================] - 0s 110us/sample - loss: 0.3551 - acc: 0.8778 - val_loss: 1.6571 - val_acc: 0.6087\n",
      "Epoch 39/100\n",
      "409/409 [==============================] - 0s 109us/sample - loss: 0.5759 - acc: 0.8362 - val_loss: 1.1608 - val_acc: 0.8043\n",
      "Epoch 40/100\n",
      "409/409 [==============================] - 0s 135us/sample - loss: 0.7903 - acc: 0.8386 - val_loss: 0.3955 - val_acc: 0.8696\n",
      "Epoch 41/100\n",
      "409/409 [==============================] - 0s 105us/sample - loss: 0.3941 - acc: 0.9071 - val_loss: 1.0337 - val_acc: 0.7826\n",
      "Epoch 42/100\n",
      "409/409 [==============================] - 0s 111us/sample - loss: 0.3513 - acc: 0.8998 - val_loss: 1.1834 - val_acc: 0.7609\n",
      "Epoch 43/100\n",
      "409/409 [==============================] - 0s 153us/sample - loss: 0.2714 - acc: 0.9218 - val_loss: 0.8394 - val_acc: 0.8261\n",
      "Epoch 44/100\n",
      "409/409 [==============================] - 0s 121us/sample - loss: 0.2654 - acc: 0.9218 - val_loss: 0.2650 - val_acc: 0.8696\n",
      "Epoch 45/100\n",
      "409/409 [==============================] - 0s 111us/sample - loss: 0.3138 - acc: 0.9144 - val_loss: 0.6917 - val_acc: 0.8696\n",
      "Epoch 46/100\n",
      "409/409 [==============================] - 0s 129us/sample - loss: 0.9855 - acc: 0.8117 - val_loss: 1.0621 - val_acc: 0.8043\n",
      "Epoch 47/100\n",
      "409/409 [==============================] - 0s 129us/sample - loss: 0.6548 - acc: 0.8680 - val_loss: 0.3046 - val_acc: 0.9348\n",
      "Epoch 48/100\n",
      "409/409 [==============================] - 0s 141us/sample - loss: 0.4442 - acc: 0.9022 - val_loss: 0.2295 - val_acc: 0.9130\n",
      "Epoch 49/100\n",
      "409/409 [==============================] - 0s 150us/sample - loss: 0.3773 - acc: 0.9046 - val_loss: 1.1357 - val_acc: 0.7826\n",
      "Epoch 50/100\n",
      "409/409 [==============================] - 0s 216us/sample - loss: 0.3916 - acc: 0.8973 - val_loss: 0.2547 - val_acc: 0.8913\n",
      "Epoch 51/100\n",
      "409/409 [==============================] - 0s 143us/sample - loss: 0.2891 - acc: 0.9267 - val_loss: 0.2234 - val_acc: 0.9348\n",
      "Epoch 52/100\n",
      "409/409 [==============================] - 0s 89us/sample - loss: 0.2233 - acc: 0.9389 - val_loss: 0.4248 - val_acc: 0.9130\n",
      "Epoch 53/100\n",
      "409/409 [==============================] - 0s 80us/sample - loss: 0.3904 - acc: 0.8900 - val_loss: 0.4639 - val_acc: 0.8913\n",
      "Epoch 54/100\n",
      "409/409 [==============================] - 0s 84us/sample - loss: 0.2842 - acc: 0.9242 - val_loss: 0.2992 - val_acc: 0.8913\n",
      "Epoch 55/100\n",
      "409/409 [==============================] - 0s 87us/sample - loss: 0.2102 - acc: 0.9364 - val_loss: 0.7013 - val_acc: 0.8261\n",
      "Epoch 56/100\n",
      "409/409 [==============================] - 0s 106us/sample - loss: 0.3872 - acc: 0.8973 - val_loss: 2.5142 - val_acc: 0.6087\n",
      "Epoch 57/100\n",
      "409/409 [==============================] - 0s 83us/sample - loss: 0.7940 - acc: 0.8582 - val_loss: 3.4288 - val_acc: 0.5870\n",
      "Epoch 58/100\n",
      "409/409 [==============================] - 0s 93us/sample - loss: 0.9236 - acc: 0.8337 - val_loss: 0.8834 - val_acc: 0.8261\n",
      "Epoch 59/100\n",
      "409/409 [==============================] - 0s 91us/sample - loss: 0.4832 - acc: 0.8998 - val_loss: 0.2090 - val_acc: 0.9130\n",
      "Epoch 60/100\n"
     ]
    },
    {
     "name": "stdout",
     "output_type": "stream",
     "text": [
      "409/409 [==============================] - 0s 88us/sample - loss: 0.6797 - acc: 0.8778 - val_loss: 0.2147 - val_acc: 0.9130\n",
      "Epoch 61/100\n",
      "409/409 [==============================] - 0s 80us/sample - loss: 0.3374 - acc: 0.9095 - val_loss: 0.5449 - val_acc: 0.8478\n",
      "Epoch 62/100\n",
      "409/409 [==============================] - 0s 96us/sample - loss: 0.3230 - acc: 0.9340 - val_loss: 0.3622 - val_acc: 0.8478\n",
      "Epoch 63/100\n",
      "409/409 [==============================] - 0s 95us/sample - loss: 0.3872 - acc: 0.9120 - val_loss: 0.3375 - val_acc: 0.8696\n",
      "Epoch 64/100\n",
      "409/409 [==============================] - 0s 117us/sample - loss: 0.2692 - acc: 0.9193 - val_loss: 0.2934 - val_acc: 0.8913\n",
      "Epoch 65/100\n",
      "409/409 [==============================] - 0s 99us/sample - loss: 0.2039 - acc: 0.9315 - val_loss: 0.3443 - val_acc: 0.9130\n",
      "Epoch 66/100\n",
      "409/409 [==============================] - 0s 104us/sample - loss: 0.3639 - acc: 0.9095 - val_loss: 0.4722 - val_acc: 0.8696\n",
      "Epoch 67/100\n",
      "409/409 [==============================] - 0s 93us/sample - loss: 0.2024 - acc: 0.9487 - val_loss: 0.3636 - val_acc: 0.8696\n",
      "Epoch 68/100\n",
      "409/409 [==============================] - 0s 85us/sample - loss: 0.1860 - acc: 0.9438 - val_loss: 0.2358 - val_acc: 0.8913\n",
      "Epoch 69/100\n",
      "409/409 [==============================] - 0s 92us/sample - loss: 0.1784 - acc: 0.9462 - val_loss: 0.2588 - val_acc: 0.8913\n",
      "Epoch 70/100\n",
      "409/409 [==============================] - 0s 85us/sample - loss: 0.1994 - acc: 0.9291 - val_loss: 0.2872 - val_acc: 0.9130\n",
      "Epoch 71/100\n",
      "409/409 [==============================] - 0s 100us/sample - loss: 0.5086 - acc: 0.8606 - val_loss: 0.1894 - val_acc: 0.9348\n",
      "Epoch 72/100\n",
      "409/409 [==============================] - 0s 82us/sample - loss: 0.4442 - acc: 0.8802 - val_loss: 0.5336 - val_acc: 0.8261\n",
      "Epoch 73/100\n",
      "409/409 [==============================] - 0s 153us/sample - loss: 0.2781 - acc: 0.9242 - val_loss: 0.2410 - val_acc: 0.8913\n",
      "Epoch 74/100\n",
      "409/409 [==============================] - 0s 148us/sample - loss: 0.2319 - acc: 0.9364 - val_loss: 0.2673 - val_acc: 0.9130\n",
      "Epoch 75/100\n",
      "409/409 [==============================] - 0s 200us/sample - loss: 0.2632 - acc: 0.9267 - val_loss: 0.3937 - val_acc: 0.8913\n",
      "Epoch 76/100\n",
      "409/409 [==============================] - 0s 149us/sample - loss: 0.2678 - acc: 0.9193 - val_loss: 0.2264 - val_acc: 0.9565\n",
      "Epoch 77/100\n",
      "409/409 [==============================] - 0s 147us/sample - loss: 0.2514 - acc: 0.9193 - val_loss: 0.2615 - val_acc: 0.9130\n",
      "Epoch 78/100\n",
      "409/409 [==============================] - 0s 143us/sample - loss: 0.2193 - acc: 0.9364 - val_loss: 0.1866 - val_acc: 0.9348\n",
      "Epoch 79/100\n",
      "409/409 [==============================] - 0s 146us/sample - loss: 0.2542 - acc: 0.9095 - val_loss: 0.2637 - val_acc: 0.9130\n",
      "Epoch 80/100\n",
      "409/409 [==============================] - 0s 143us/sample - loss: 0.3213 - acc: 0.9022 - val_loss: 0.5414 - val_acc: 0.8913\n",
      "Epoch 81/100\n",
      "409/409 [==============================] - 0s 145us/sample - loss: 0.3210 - acc: 0.9144 - val_loss: 0.2389 - val_acc: 0.9130\n",
      "Epoch 82/100\n",
      "409/409 [==============================] - 0s 151us/sample - loss: 0.2815 - acc: 0.9242 - val_loss: 0.6115 - val_acc: 0.8696\n",
      "Epoch 83/100\n",
      "409/409 [==============================] - 0s 159us/sample - loss: 0.5277 - acc: 0.8582 - val_loss: 0.2024 - val_acc: 0.8913\n",
      "Epoch 84/100\n",
      "409/409 [==============================] - 0s 157us/sample - loss: 0.3132 - acc: 0.9071 - val_loss: 0.2111 - val_acc: 0.8913\n",
      "Epoch 85/100\n",
      "409/409 [==============================] - 0s 139us/sample - loss: 0.2848 - acc: 0.9315 - val_loss: 0.2831 - val_acc: 0.8913\n",
      "Epoch 86/100\n",
      "409/409 [==============================] - 0s 135us/sample - loss: 0.2997 - acc: 0.9144 - val_loss: 0.4450 - val_acc: 0.8478\n",
      "Epoch 87/100\n",
      "409/409 [==============================] - 0s 141us/sample - loss: 0.1898 - acc: 0.9340 - val_loss: 0.5252 - val_acc: 0.8478\n",
      "Epoch 88/100\n",
      "409/409 [==============================] - 0s 165us/sample - loss: 0.1718 - acc: 0.9487 - val_loss: 0.2465 - val_acc: 0.9130\n",
      "Epoch 89/100\n",
      "409/409 [==============================] - 0s 167us/sample - loss: 0.1916 - acc: 0.9364 - val_loss: 0.2140 - val_acc: 0.9348\n",
      "Epoch 90/100\n",
      "409/409 [==============================] - 0s 174us/sample - loss: 0.2012 - acc: 0.9389 - val_loss: 0.4066 - val_acc: 0.8696\n",
      "Epoch 91/100\n",
      "409/409 [==============================] - 0s 211us/sample - loss: 0.1610 - acc: 0.9364 - val_loss: 0.6159 - val_acc: 0.8478\n",
      "Epoch 92/100\n",
      "409/409 [==============================] - 0s 168us/sample - loss: 0.2474 - acc: 0.9315 - val_loss: 0.9386 - val_acc: 0.7826\n",
      "Epoch 93/100\n",
      "409/409 [==============================] - 0s 162us/sample - loss: 0.2664 - acc: 0.9193 - val_loss: 0.6226 - val_acc: 0.8478\n",
      "Epoch 94/100\n",
      "409/409 [==============================] - 0s 132us/sample - loss: 0.3172 - acc: 0.9071 - val_loss: 0.2895 - val_acc: 0.8913\n",
      "Epoch 95/100\n",
      "409/409 [==============================] - 0s 148us/sample - loss: 0.3154 - acc: 0.9169 - val_loss: 0.1975 - val_acc: 0.9348\n",
      "Epoch 96/100\n",
      "409/409 [==============================] - 0s 71us/sample - loss: 0.2814 - acc: 0.9169 - val_loss: 0.1908 - val_acc: 0.9348\n",
      "Epoch 97/100\n",
      "409/409 [==============================] - 0s 81us/sample - loss: 0.2151 - acc: 0.9291 - val_loss: 0.1937 - val_acc: 0.9130\n",
      "Epoch 98/100\n",
      "409/409 [==============================] - 0s 107us/sample - loss: 0.1446 - acc: 0.9413 - val_loss: 0.6439 - val_acc: 0.8696\n",
      "Epoch 99/100\n",
      "409/409 [==============================] - 0s 79us/sample - loss: 0.5798 - acc: 0.8606 - val_loss: 0.1923 - val_acc: 0.9348\n",
      "Epoch 100/100\n",
      "409/409 [==============================] - 0s 94us/sample - loss: 0.5036 - acc: 0.8826 - val_loss: 0.5973 - val_acc: 0.8478\n"
     ]
    },
    {
     "data": {
      "text/plain": [
       "<tensorflow.python.keras.callbacks.History at 0x7fb6d3a15908>"
      ]
     },
     "execution_count": 19,
     "metadata": {},
     "output_type": "execute_result"
    }
   ],
   "source": [
    "epochs = 100\n",
    "\n",
    "clf_model.fit(\n",
    "    X_train,\n",
    "    y_train,\n",
    "    batch_size=50,\n",
    "    epochs=epochs,\n",
    "    validation_split=0.1\n",
    ")"
   ]
  },
  {
   "cell_type": "markdown",
   "metadata": {},
   "source": [
    "#### Predict"
   ]
  },
  {
   "cell_type": "code",
   "execution_count": 20,
   "metadata": {},
   "outputs": [],
   "source": [
    "pred = clf_model.predict(X_test)"
   ]
  },
  {
   "cell_type": "code",
   "execution_count": 24,
   "metadata": {},
   "outputs": [
    {
     "data": {
      "text/plain": [
       "((114, 2), (114,))"
      ]
     },
     "execution_count": 24,
     "metadata": {},
     "output_type": "execute_result"
    }
   ],
   "source": [
    "pred.shape, y_test.shape"
   ]
  },
  {
   "cell_type": "code",
   "execution_count": 26,
   "metadata": {},
   "outputs": [],
   "source": [
    "pred_list = [list(rows).index(np.max(rows)) for rows in pred]"
   ]
  },
  {
   "cell_type": "code",
   "execution_count": 30,
   "metadata": {},
   "outputs": [],
   "source": [
    "from sklearn.metrics import accuracy_score"
   ]
  },
  {
   "cell_type": "code",
   "execution_count": 33,
   "metadata": {
    "scrolled": true
   },
   "outputs": [
    {
     "data": {
      "text/plain": [
       "0.9122807017543859"
      ]
     },
     "execution_count": 33,
     "metadata": {},
     "output_type": "execute_result"
    }
   ],
   "source": [
    "accuracy_score(pred_list, y_test)"
   ]
  },
  {
   "cell_type": "code",
   "execution_count": 34,
   "metadata": {},
   "outputs": [],
   "source": [
    "saved_data = clf_model.to_json()"
   ]
  },
  {
   "cell_type": "code",
   "execution_count": 35,
   "metadata": {},
   "outputs": [],
   "source": [
    "with open('clf_model', 'w') as f:\n",
    "    f.write(saved_data)"
   ]
  },
  {
   "cell_type": "markdown",
   "metadata": {},
   "source": [
    "### Regression\n",
    "1. I/P layer\n",
    "2. Hidden 1 (200 LTUs)\n",
    "3. Hidden 2 (200 LTUs)\n",
    "4. Hidden 3 (200 LTUs)\n",
    "5. Hidden 4 (200 LTUs)\n",
    "6. Hidden 5 (100 LTUs)\n",
    "7. Hidden 6 (100 LTUs)\n",
    "8. Hidden 7 (100 LTUs)\n",
    "9. Hidden 8 (50 LTUs)\n",
    "10. Hidden 9 (50 LTUs)\n",
    "11. Hidden 10 (25 LTUs)\n",
    "12. Output (1 LTUs)"
   ]
  },
  {
   "cell_type": "code",
   "execution_count": 38,
   "metadata": {},
   "outputs": [],
   "source": [
    "from sklearn.datasets import load_diabetes"
   ]
  },
  {
   "cell_type": "code",
   "execution_count": 39,
   "metadata": {},
   "outputs": [],
   "source": [
    "diabetes = load_diabetes()\n",
    "X = diabetes['data']\n",
    "y = diabetes['target']"
   ]
  },
  {
   "cell_type": "code",
   "execution_count": 40,
   "metadata": {},
   "outputs": [],
   "source": [
    "X_train, X_test, y_train, y_test = \\\n",
    "                train_test_split(X, y, test_size=0.2)"
   ]
  },
  {
   "cell_type": "code",
   "execution_count": 54,
   "metadata": {},
   "outputs": [],
   "source": [
    "tf.reset_default_graph()"
   ]
  },
  {
   "cell_type": "code",
   "execution_count": 55,
   "metadata": {},
   "outputs": [],
   "source": [
    "reg_model = Sequential()"
   ]
  },
  {
   "cell_type": "code",
   "execution_count": 56,
   "metadata": {},
   "outputs": [],
   "source": [
    "ltu_list = [200, 200, 200, 100, 100, 100, 50, 50, 25]"
   ]
  },
  {
   "cell_type": "code",
   "execution_count": 57,
   "metadata": {},
   "outputs": [],
   "source": [
    "reg_model.add(Dense(\n",
    "    200,\n",
    "    'relu',\n",
    "    input_shape=[X.shape[1]]\n",
    "))"
   ]
  },
  {
   "cell_type": "code",
   "execution_count": 58,
   "metadata": {},
   "outputs": [],
   "source": [
    "for ltus in ltu_list:\n",
    "    reg_model.add(Dense(ltus, 'relu'))"
   ]
  },
  {
   "cell_type": "code",
   "execution_count": 59,
   "metadata": {},
   "outputs": [],
   "source": [
    "reg_model.add(Dense(1, 'linear'))"
   ]
  },
  {
   "cell_type": "code",
   "execution_count": 60,
   "metadata": {},
   "outputs": [],
   "source": [
    "reg_model.compile('adam', 'mse', ['mse'])"
   ]
  },
  {
   "cell_type": "code",
   "execution_count": 62,
   "metadata": {
    "scrolled": true
   },
   "outputs": [
    {
     "data": {
      "text/plain": [
       "<tensorflow.python.keras.callbacks.History at 0x7fb67077f518>"
      ]
     },
     "execution_count": 62,
     "metadata": {},
     "output_type": "execute_result"
    }
   ],
   "source": [
    "reg_model.fit(\n",
    "    X_train,\n",
    "    y_train,\n",
    "    epochs=10,\n",
    "    validation_split=0.1,\n",
    "    verbose=0\n",
    ")"
   ]
  },
  {
   "cell_type": "code",
   "execution_count": 63,
   "metadata": {},
   "outputs": [],
   "source": [
    "pred = reg_model.predict(X_test)"
   ]
  },
  {
   "cell_type": "code",
   "execution_count": 64,
   "metadata": {},
   "outputs": [],
   "source": [
    "from sklearn.metrics import mean_squared_error"
   ]
  },
  {
   "cell_type": "code",
   "execution_count": 65,
   "metadata": {},
   "outputs": [
    {
     "data": {
      "text/plain": [
       "58.74219603445107"
      ]
     },
     "execution_count": 65,
     "metadata": {},
     "output_type": "execute_result"
    }
   ],
   "source": [
    "np.sqrt(mean_squared_error(pred, y_test))"
   ]
  },
  {
   "cell_type": "markdown",
   "metadata": {},
   "source": [
    "### Problem Statement\n",
    "Create a Model for the following datasets for classification and Regression."
   ]
  },
  {
   "cell_type": "code",
   "execution_count": 66,
   "metadata": {},
   "outputs": [],
   "source": [
    "from sklearn.datasets import load_iris, load_boston"
   ]
  },
  {
   "cell_type": "code",
   "execution_count": 67,
   "metadata": {},
   "outputs": [],
   "source": [
    "iris = load_iris() # Classification Dataset\n",
    "boston = load_boston() # Regression Dataset"
   ]
  },
  {
   "cell_type": "code",
   "execution_count": null,
   "metadata": {},
   "outputs": [],
   "source": []
  }
 ],
 "metadata": {
  "kernelspec": {
   "display_name": "Python 3",
   "language": "python",
   "name": "python3"
  },
  "language_info": {
   "codemirror_mode": {
    "name": "ipython",
    "version": 3
   },
   "file_extension": ".py",
   "mimetype": "text/x-python",
   "name": "python",
   "nbconvert_exporter": "python",
   "pygments_lexer": "ipython3",
   "version": "3.6.8"
  }
 },
 "nbformat": 4,
 "nbformat_minor": 2
}
